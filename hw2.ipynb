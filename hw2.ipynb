{
 "cells": [
  {
   "cell_type": "code",
   "execution_count": 2,
   "metadata": {},
   "outputs": [],
   "source": [
    "import sys, os\n",
    "from os.path import join, dirname, abspath\n",
    "import matplotlib.pyplot as plt\n",
    "import numpy as np\n",
    "plt.rcParams.update({\n",
    "    \"text.usetex\": False,\n",
    "    # \"font.family\": \"Helvetica\",\n",
    "    # \"font.size\": 12,\n",
    "    \"ytick.minor.visible\":True,\n",
    "    \"xtick.minor.visible\":True,\n",
    "    'xtick.direction': \"in\",\n",
    "    'ytick.direction': \"in\"\n",
    "})\n",
    "outdir = \"hw2_out\"\n",
    "os.makedirs(outdir,exist_ok=True)\n",
    "def out(fname): return join(outdir,fname)\n",
    "def savefig(plot_name): \n",
    "    plt.savefig(out(plot_name),bbox_inches=\"tight\",dpi=250)"
   ]
  },
  {
   "cell_type": "markdown",
   "metadata": {},
   "source": [
    "# Problem 1: Recurrence"
   ]
  },
  {
   "cell_type": "markdown",
   "metadata": {},
   "source": [
    "## b"
   ]
  },
  {
   "cell_type": "code",
   "execution_count": null,
   "metadata": {},
   "outputs": [],
   "source": [
    "def recurrence(n_1,n_2):\n",
    "    return 2*n_1-n_2\n",
    "\n",
    "x = np.zeros(10)\n",
    "x[0]=1\n",
    "x[1]=3\n",
    "\n",
    "for i in range(2,len(x)):\n",
    "    x[i] = recurrence(x[i-1],x[i-2])\n",
    "\n",
    "plt.plot(x)"
   ]
  },
  {
   "cell_type": "markdown",
   "metadata": {},
   "source": [
    "# Problem 2: Beverton-Holt"
   ]
  },
  {
   "cell_type": "code",
   "execution_count": 4,
   "metadata": {},
   "outputs": [],
   "source": [
    "def beverton_recurrence(r,K,xn_1):\n",
    "    return r*xn_1 / (1 + (r-1)/K * xn_1)\n",
    "\n",
    "def beverton_general(r,K,xn_1):\n",
    "    wn_1 = 1/xn_1\n",
    "    wn = wn_1/r + (r-1)/(K*r)\n",
    "    return 1/wn\n",
    "    # wn = ((1+((r-1)/(K*wn_1)))/r-1)*wn_1 + wn_1\n",
    "    # return 1/wn"
   ]
  },
  {
   "cell_type": "code",
   "execution_count": null,
   "metadata": {},
   "outputs": [],
   "source": [
    "x = np.zeros(100)\n",
    "x2 = np.zeros(100)\n",
    "x[0]=100\n",
    "x2[0]=100\n",
    "\n",
    "r=1.1\n",
    "K=1000\n",
    "for i in range(1,len(x)):\n",
    "    x[i] = beverton_recurrence(r,K,x[i-1])\n",
    "    x2[i] = beverton_general(r,K,x2[i-1])\n",
    "\n",
    "plt.plot(x,alpha=0.5)\n",
    "plt.plot(x2,alpha=0.5)\n",
    "\n",
    "stable = 1/(((r-1)/(K*r))/(1-1/r))\n",
    "plt.hlines(stable,*plt.xlim(),linestyles=\"dashed\")"
   ]
  },
  {
   "cell_type": "markdown",
   "metadata": {},
   "source": [
    "# Problem 4: Logistic Recurrence"
   ]
  },
  {
   "cell_type": "code",
   "execution_count": null,
   "metadata": {},
   "outputs": [],
   "source": [
    "def logistic_recurrence(a,xn_1):\n",
    "    return a*xn_1*(1-xn_1)\n",
    "\n",
    "def quadratic(a,b,c):\n",
    "    disc = b**2 - 4*a*c\n",
    "    return (-b+np.sqrt(disc))/(2*a), (-b-np.sqrt(disc))/(2*a)\n",
    "\n",
    "\n",
    "a_arr = [3.44949]\n",
    "# a_arr = np.linspace(3,3.5,num=10)\n",
    "# x = np.zeros(10)\n",
    "\n",
    "for a in a_arr:\n",
    "    fig, ax = plt.subplots()\n",
    "    x = np.zeros(1000)\n",
    "    x[0] = 0.5\n",
    "    for i in range(1,len(x)):\n",
    "        x[i] = logistic_recurrence(a,x[i-1])\n",
    "    ax.plot(range(len(x)),x,label=str(a),alpha=0.5)\n",
    "    x1, x2 = quadratic(a**3, -(a**3+a**2),a**2+a)\n",
    "    # print(x1,x2)\n",
    "    xlims = plt.xlim()\n",
    "    plt.hlines(x1,*xlims,linestyles=\"dashed\")\n",
    "    plt.hlines(x2,*xlims,linestyles=\"dashed\")\n",
    "    plt.xlim(*xlims)\n",
    "    plt.legend()\n",
    "\n"
   ]
  },
  {
   "cell_type": "code",
   "execution_count": null,
   "metadata": {},
   "outputs": [],
   "source": [
    "def quadratic(a,b,c):\n",
    "    disc = b**2 - 4*a*c\n",
    "    return (-b+np.sqrt(disc))/2*a, (-b-np.sqrt(disc))/2*a\n",
    "\n",
    "a_arr = np.linspace(1,5)\n",
    "\n",
    "x1s = []\n",
    "x2s = []\n",
    "for a in a_arr:\n",
    "    x1, x2 = quadratic(a**3, -(a**3+a**2),a**2+a)\n",
    "    print(x1,x2)\n",
    "    x1s.append(x1)\n",
    "    x2s.append(x2)\n",
    "plt.plot(a_arr,x1s)\n",
    "plt.plot(a_arr,x2s)\n",
    "# quadratic(1,1,1)"
   ]
  },
  {
   "cell_type": "code",
   "execution_count": null,
   "metadata": {},
   "outputs": [],
   "source": []
  }
 ],
 "metadata": {
  "kernelspec": {
   "display_name": ".venv",
   "language": "python",
   "name": "python3"
  },
  "language_info": {
   "codemirror_mode": {
    "name": "ipython",
    "version": 3
   },
   "file_extension": ".py",
   "mimetype": "text/x-python",
   "name": "python",
   "nbconvert_exporter": "python",
   "pygments_lexer": "ipython3",
   "version": "3.12.0"
  }
 },
 "nbformat": 4,
 "nbformat_minor": 2
}
