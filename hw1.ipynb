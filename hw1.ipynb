{
 "cells": [
  {
   "cell_type": "code",
   "execution_count": 1,
   "metadata": {},
   "outputs": [],
   "source": [
    "import sys, os\n",
    "from os.path import join, dirname, abspath\n",
    "import matplotlib.pyplot as plt\n",
    "import numpy as np\n",
    "plt.rcParams.update({\n",
    "    \"text.usetex\": False,\n",
    "    # \"font.family\": \"Helvetica\",\n",
    "    # \"font.size\": 12,\n",
    "    \"ytick.minor.visible\":True,\n",
    "    \"xtick.minor.visible\":True,\n",
    "    'xtick.direction': \"in\",\n",
    "    'ytick.direction': \"in\"\n",
    "})\n",
    "outdir = \"hw1_out\"\n",
    "os.makedirs(outdir,exist_ok=True)\n",
    "def out(fname): return join(outdir,fname)\n",
    "def savefig(plot_name): \n",
    "    plt.savefig(out(plot_name),bbox_inches=\"tight\",dpi=250)"
   ]
  },
  {
   "cell_type": "markdown",
   "metadata": {},
   "source": [
    "# Problem 5: Cipro Dosage"
   ]
  },
  {
   "cell_type": "code",
   "execution_count": null,
   "metadata": {},
   "outputs": [],
   "source": [
    "orig_dose = 500\n",
    "orig_x0 = 0\n",
    "orig_tau = 24\n",
    "k = -np.log(1/3)/24\n",
    "print(f\"k = {k}\")"
   ]
  },
  {
   "cell_type": "code",
   "execution_count": 14,
   "metadata": {},
   "outputs": [],
   "source": [
    "def closed_form(n,dose,tau,x0):\n",
    "    R = np.e**(-k*tau)\n",
    "    steady = dose / (1 - R)\n",
    "    print(f\"steady: {steady}\")\n",
    "    return (x0-steady)*R**n+steady"
   ]
  },
  {
   "cell_type": "code",
   "execution_count": null,
   "metadata": {},
   "outputs": [],
   "source": [
    "n = np.linspace(0,100,1000)\n",
    "plt.plot(n,closed_form(n,orig_dose,orig_tau,orig_x0))\n",
    "plt.xlabel(\"t (hrs)\")\n",
    "plt.ylabel(\"Cipro in system (mg)\")\n",
    "plt.title(\"Original Cipro Dosing\")\n",
    "savefig(\"cipro_orig.png\")"
   ]
  },
  {
   "cell_type": "code",
   "execution_count": null,
   "metadata": {},
   "outputs": [],
   "source": [
    "plt.plot(n,(np.e**(-(n*k)))*orig_dose)\n",
    "plt.hlines(orig_dose,*plt.xlim(),linestyles=\"dashed\")"
   ]
  },
  {
   "cell_type": "code",
   "execution_count": null,
   "metadata": {},
   "outputs": [],
   "source": [
    "for i in range(4):\n",
    "    tau = (i+1)*24\n",
    "    plt.plot(n,closed_form(n,orig_dose,tau,orig_x0),label=f\"{i+1}\")\n",
    "\n",
    "DANGER = 700\n",
    "plt.hlines(DANGER,*plt.xlim(),linestyles=\"dashed\")\n",
    "plt.xlabel(\"t (hrs)\")\n",
    "plt.ylabel(\"Cipro in system (mg)\")\n",
    "plt.title(f\"Alternate Timings for Cipro Dosing ({orig_dose} mg)\")\n",
    "_=plt.legend(title=r\"$\\tau$ (days)\")\n",
    "savefig(\"cipro_alternate_timings.png\")"
   ]
  },
  {
   "cell_type": "code",
   "execution_count": null,
   "metadata": {},
   "outputs": [],
   "source": [
    "for i in range(4):\n",
    "    dose = orig_dose - i*50\n",
    "    plt.plot(n,closed_form(n,dose,orig_tau,orig_x0),label=f\"{dose}\")\n",
    "\n",
    "plt.hlines(DANGER,*plt.xlim(),linestyles=\"dashed\")\n",
    "plt.xlabel(\"t (hrs)\")\n",
    "plt.ylabel(\"Cipro in system (mg)\")\n",
    "plt.title(r\"Alternate Dosings for Cipro ($\\tau$\"+f\" = {orig_tau} hrs)\")\n",
    "_=plt.legend(title=\"Dose (mg)\")\n",
    "savefig(\"cipro_alternate_dosings.png\")"
   ]
  },
  {
   "cell_type": "code",
   "execution_count": 56,
   "metadata": {},
   "outputs": [],
   "source": [
    "def recurrence(prev_y,tau,dose):\n",
    "    return np.e**(-k*tau)*prev_y+dose"
   ]
  },
  {
   "cell_type": "code",
   "execution_count": null,
   "metadata": {},
   "outputs": [],
   "source": [
    "n = np.arange(0,100)\n",
    "c = [orig_x0]\n",
    "for _ in n:\n",
    "    c.append(recurrence(c[-1],orig_tau,orig_dose))\n",
    "plt.plot(n,c[:-1])\n",
    "    "
   ]
  },
  {
   "cell_type": "code",
   "execution_count": null,
   "metadata": {},
   "outputs": [],
   "source": []
  }
 ],
 "metadata": {
  "kernelspec": {
   "display_name": ".venv",
   "language": "python",
   "name": "python3"
  },
  "language_info": {
   "codemirror_mode": {
    "name": "ipython",
    "version": 3
   },
   "file_extension": ".py",
   "mimetype": "text/x-python",
   "name": "python",
   "nbconvert_exporter": "python",
   "pygments_lexer": "ipython3",
   "version": "3.12.0"
  }
 },
 "nbformat": 4,
 "nbformat_minor": 2
}
