{
 "cells": [
  {
   "cell_type": "code",
   "execution_count": 114,
   "metadata": {},
   "outputs": [],
   "source": [
    "import sys, os\n",
    "from os.path import join, dirname, abspath\n",
    "import matplotlib.pyplot as plt\n",
    "from matplotlib.pyplot import Figure, Axes\n",
    "import numpy as np\n",
    "import networkx as nx\n",
    "import matplotlib.animation as animation\n",
    "from string import ascii_uppercase\n",
    "plt.rcParams.update({\n",
    "    \"text.usetex\": False,\n",
    "    \"ytick.minor.visible\":True,\n",
    "    \"xtick.minor.visible\":True,\n",
    "    'xtick.direction': \"in\",\n",
    "    'ytick.direction': \"in\"\n",
    "})\n",
    "outdir = \"hw6_out\"\n",
    "os.makedirs(outdir,exist_ok=True)\n",
    "def out(fname): return join(outdir,fname)\n",
    "def savefig(plot_name): \n",
    "    plt.savefig(out(plot_name),bbox_inches=\"tight\",dpi=250)\n",
    "import pandas as pd\n",
    "from numpy.linalg import matrix_power, eig\n",
    "\n",
    "def arr_to_latex(M):\n",
    "    return '$$\\n' + r'\\begin{bmatrix}' + '\\n' + (r'\\\\' + '\\n').join('&'.join(str(x) for x in row) for row in M) + '\\n' + r'\\end{bmatrix}' + '\\n' +'$$'\n",
    "\n",
    "def vec_to_latex(x,round=3):\n",
    "    return '$$\\n' + r'\\begin{bmatrix}' + '\\n' + (r' \\\\ ').join(str(np.round(v,round)) for v in x) + '\\n' + r'\\end{bmatrix}' + '\\n' +'$$'"
   ]
  },
  {
   "cell_type": "markdown",
   "metadata": {},
   "source": [
    "# Question 1: Logistic ODE"
   ]
  },
  {
   "cell_type": "markdown",
   "metadata": {},
   "source": [
    "## Part a: Symbolic"
   ]
  },
  {
   "cell_type": "code",
   "execution_count": 115,
   "metadata": {},
   "outputs": [],
   "source": [
    "from sympy import Function, dsolve, Derivative, checkodesol, symbols, lambdify, Equality\n",
    "from sympy.abc import x"
   ]
  },
  {
   "cell_type": "code",
   "execution_count": null,
   "metadata": {},
   "outputs": [],
   "source": [
    "x = Function(\"x\")\n",
    "r, t, k, x0 = symbols(\"r, t, k, x0\")\n",
    "eq = Equality(Derivative(x(t),t),r*x(t)*(1-x(t)/k))\n",
    "print(eq._repr_latex_())\n",
    "eq"
   ]
  },
  {
   "cell_type": "code",
   "execution_count": null,
   "metadata": {},
   "outputs": [],
   "source": [
    "result = dsolve(eq,x(t),ics={x(0):x0}).simplify()\n",
    "print(result._repr_latex_())\n",
    "result"
   ]
  },
  {
   "cell_type": "markdown",
   "metadata": {},
   "source": [
    "## Part b: Plot"
   ]
  },
  {
   "cell_type": "code",
   "execution_count": 118,
   "metadata": {},
   "outputs": [],
   "source": [
    "K = 100\n",
    "R = 0.75\n",
    "X0 = 10\n",
    "t0, tf = 0, 10"
   ]
  },
  {
   "cell_type": "code",
   "execution_count": null,
   "metadata": {},
   "outputs": [],
   "source": [
    "subst = result.subs({k:K,r:R,x0:X0})\n",
    "xt = lambdify(t,subst.rhs,\"numpy\")\n",
    "t_arr = np.linspace(t0,tf,num=1000)\n",
    "plt.plot(t_arr,xt(t_arr))\n",
    "plt.xlabel(\"t\")\n",
    "plt.ylabel(\"x(t)\")\n",
    "plt.title(\"Symbolic Solution for Logistic Eq\")\n",
    "savefig(\"q1_symbolic_plot.png\")"
   ]
  },
  {
   "cell_type": "markdown",
   "metadata": {},
   "source": [
    "## Part c: numerically solve"
   ]
  },
  {
   "cell_type": "code",
   "execution_count": 120,
   "metadata": {},
   "outputs": [],
   "source": [
    "from scipy.integrate import solve_ivp"
   ]
  },
  {
   "cell_type": "code",
   "execution_count": null,
   "metadata": {},
   "outputs": [],
   "source": [
    "def logistic(t,y): return R*y*(1-y/K)\n",
    "sol = solve_ivp(logistic,t_span=(t0,tf),t_eval=t_arr,y0=[X0])\n",
    "sol"
   ]
  },
  {
   "cell_type": "code",
   "execution_count": null,
   "metadata": {},
   "outputs": [],
   "source": [
    "plt.plot(t_arr,xt(t_arr),label=\"Symbolic\")\n",
    "plt.xlabel(\"t\")\n",
    "plt.ylabel(\"x(t)\")\n",
    "plt.title(\"Symbolic vs Numeric Solution for Logistic Eq\")\n",
    "plt.plot(sol.t,sol.y[0],label=\"RK45\")\n",
    "plt.legend()\n",
    "savefig(\"q1_numeric_plot.png\")"
   ]
  },
  {
   "cell_type": "code",
   "execution_count": null,
   "metadata": {},
   "outputs": [],
   "source": [
    "xt(t_arr)-sol.y[0]"
   ]
  },
  {
   "cell_type": "code",
   "execution_count": null,
   "metadata": {},
   "outputs": [],
   "source": [
    "plt.plot(t_arr,xt(t_arr)-sol.y[0])\n",
    "plt.title(\"Deviation of RK45 from Symbolic\")\n",
    "plt.xlabel('$t$')\n",
    "plt.ylabel('$x(t)_{sym}-x(t)_{RK45}$')\n",
    "savefig(\"q1_absolute_deviation.png\")"
   ]
  },
  {
   "cell_type": "code",
   "execution_count": null,
   "metadata": {},
   "outputs": [],
   "source": [
    "plt.plot(t_arr,(xt(t_arr)-sol.y[0])/xt(t_arr))\n",
    "plt.title(\"Fractional Deviation of RK45 from Symbolic\")\n",
    "plt.xlabel('$t$')\n",
    "plt.ylabel('$(x(t)_{sym}-x(t)_{RK45})/x(t)_{sym}$')\n",
    "savefig(\"q1_fractional_deviation.png\")"
   ]
  },
  {
   "cell_type": "markdown",
   "metadata": {},
   "source": [
    "# Problem 3: SIR"
   ]
  },
  {
   "cell_type": "code",
   "execution_count": 175,
   "metadata": {},
   "outputs": [],
   "source": [
    "S_ = 'tab:blue'\n",
    "I_ = 'tab:red'\n",
    "R_ = 'tab:orange'"
   ]
  },
  {
   "cell_type": "code",
   "execution_count": 176,
   "metadata": {},
   "outputs": [],
   "source": [
    "S0 = 10\n",
    "I0 = 1\n",
    "R0 = 0\n",
    "\n",
    "t0, tf = 0, 100\n",
    "t_arr = np.linspace(t0,tf,10000)\n",
    "\n",
    "y0 = [S0,I0,R0]"
   ]
  },
  {
   "cell_type": "code",
   "execution_count": 177,
   "metadata": {},
   "outputs": [],
   "source": [
    "def SIR(beta,gamma):\n",
    "    def _sir(t, sir):\n",
    "        return [-beta * sir[0] * sir[1], beta*sir[0]*sir[1]-gamma*sir[1], gamma*sir[1]]\n",
    "    return _sir"
   ]
  },
  {
   "cell_type": "code",
   "execution_count": 150,
   "metadata": {},
   "outputs": [],
   "source": []
  },
  {
   "cell_type": "code",
   "execution_count": null,
   "metadata": {},
   "outputs": [],
   "source": [
    "sir(1,y0)"
   ]
  },
  {
   "cell_type": "code",
   "execution_count": null,
   "metadata": {},
   "outputs": [],
   "source": [
    "beta, gamma = 0.01,0.02\n",
    "sir=SIR(beta,gamma)\n",
    "sol = solve_ivp(sir,(t0,tf),y0,t_eval=t_arr)\n",
    "plt.plot(t_arr, sol.y[0],label=\"S\",color=S_)\n",
    "plt.plot(t_arr, sol.y[1],label=\"I\",color=I_)\n",
    "plt.plot(t_arr, sol.y[2],label=\"R\",color=R_)\n",
    "\n",
    "plt.legend()\n",
    "plt.title(r\"SIR: $\\beta=\"+f\"{beta}\"+r\", \\gamma=\"+f\"{gamma}$\")"
   ]
  },
  {
   "cell_type": "code",
   "execution_count": null,
   "metadata": {},
   "outputs": [],
   "source": [
    "fig,ax = plt.subplots()\n",
    "\n",
    "betas = [0.01,0.0105,0.011]\n",
    "\n",
    "beta, gamma = betas[0],0.02\n",
    "sir=SIR(beta,gamma)\n",
    "sol = solve_ivp(sir,(t0,tf),y0,t_eval=t_arr)\n",
    "ax.plot(t_arr, sol.y[0],label=\"S\",color=S_)\n",
    "ax.plot(t_arr, sol.y[1],label=\"I\",color=I_)\n",
    "ax.plot(t_arr, sol.y[2],label=\"R\",color=R_)\n",
    "l1 = ax.legend()\n",
    "\n",
    "beta, gamma = betas[1],0.02\n",
    "sir=SIR(beta,gamma)\n",
    "sol = solve_ivp(sir,(t0,tf),y0,t_eval=t_arr)\n",
    "ax.plot(t_arr, sol.y[0],color=S_,linestyle=\"dashed\")\n",
    "ax.plot(t_arr, sol.y[1],color=I_,linestyle=\"dashed\")\n",
    "ax.plot(t_arr, sol.y[2],color=R_,linestyle=\"dashed\")\n",
    "\n",
    "beta, gamma = betas[2],0.02\n",
    "sir=SIR(beta,gamma)\n",
    "sol = solve_ivp(sir,(t0,tf),y0,t_eval=t_arr)\n",
    "ax.plot(t_arr, sol.y[0],color=S_,linestyle=\"dotted\")\n",
    "ax.plot(t_arr, sol.y[1],color=I_,linestyle=\"dotted\")\n",
    "ax.plot(t_arr, sol.y[2],color=R_,linestyle=\"dotted\")\n",
    "\n",
    "ax2 = ax.twinx()\n",
    "ax2.set_visible(False)\n",
    "ax2.plot(1,1,color=\"black\",label=r\"$\\beta=\"+f\"{betas[0]}$\")\n",
    "ax2.plot(1,1,color=\"black\",label=r\"$\\beta=\"+f\"{betas[1]}$\",linestyle=\"dashed\")\n",
    "ax2.plot(1,1,color=\"black\",label=r\"$\\beta=\"+f\"{betas[2]}$\",linestyle=\"dotted\")\n",
    "ax2.set_visible(True)\n",
    "ax2.set_axis_off()\n",
    "\n",
    "l2 = ax2.legend(ncols=len(betas),loc=\"upper center\")\n",
    "ax.add_artist(l1)\n",
    "\n",
    "ax.set_ylabel(\"Class Population\")\n",
    "ax.set_xlabel(\"$t$\")\n",
    "ax.set_title(r\"SIR with variable $\\beta, \\gamma=\"+f\"{gamma}$\")\n",
    "savefig(\"variable_beta.png\")"
   ]
  },
  {
   "cell_type": "code",
   "execution_count": null,
   "metadata": {},
   "outputs": [],
   "source": [
    "fig,ax = plt.subplots()\n",
    "\n",
    "gammas = [0.02,0.0195,0.021]\n",
    "\n",
    "beta, gamma = 0.01,gammas[0]\n",
    "sir=SIR(beta,gamma)\n",
    "sol = solve_ivp(sir,(t0,tf),y0,t_eval=t_arr)\n",
    "ax.plot(t_arr, sol.y[0],label=\"S\",color=S_)\n",
    "ax.plot(t_arr, sol.y[1],label=\"I\",color=I_)\n",
    "ax.plot(t_arr, sol.y[2],label=\"R\",color=R_)\n",
    "l1 = ax.legend()\n",
    "\n",
    "beta, gamma = 0.01,gammas[1]\n",
    "sir=SIR(beta,gamma)\n",
    "sol = solve_ivp(sir,(t0,tf),y0,t_eval=t_arr)\n",
    "ax.plot(t_arr, sol.y[0],color=S_,linestyle=\"dashed\")\n",
    "ax.plot(t_arr, sol.y[1],color=I_,linestyle=\"dashed\")\n",
    "ax.plot(t_arr, sol.y[2],color=R_,linestyle=\"dashed\")\n",
    "\n",
    "beta, gamma = 0.01,gammas[2]\n",
    "sir=SIR(beta,gamma)\n",
    "sol = solve_ivp(sir,(t0,tf),y0,t_eval=t_arr)\n",
    "ax.plot(t_arr, sol.y[0],color=S_,linestyle=\"dotted\")\n",
    "ax.plot(t_arr, sol.y[1],color=I_,linestyle=\"dotted\")\n",
    "ax.plot(t_arr, sol.y[2],color=R_,linestyle=\"dotted\")\n",
    "\n",
    "ax2 = ax.twinx()\n",
    "ax2.set_visible(False)\n",
    "ax2.plot(1,1,color=\"black\",label=r\"$\\gamma=\"+f\"{gammas[0]}$\")\n",
    "ax2.plot(1,1,color=\"black\",label=r\"$\\gamma=\"+f\"{gammas[1]}$\",linestyle=\"dashed\")\n",
    "ax2.plot(1,1,color=\"black\",label=r\"$\\gamma=\"+f\"{gammas[2]}$\",linestyle=\"dotted\")\n",
    "ax2.set_visible(True)\n",
    "ax2.set_axis_off()\n",
    "\n",
    "l2 = ax2.legend(ncols=len(betas),loc=\"upper center\")\n",
    "ax.add_artist(l1)\n",
    "\n",
    "ax.set_ylabel(\"Class Population\")\n",
    "ax.set_xlabel(\"$t$\")\n",
    "ax.set_title(r\"SIR with variable $\\gamma, \\beta=\"+f\"{beta}$\")\n",
    "savefig(\"variable_gamma.png\")"
   ]
  },
  {
   "cell_type": "code",
   "execution_count": null,
   "metadata": {},
   "outputs": [],
   "source": [
    "beta,gamma = 0.01,0.02\n",
    "fig,ax = plt.subplots()\n",
    "\n",
    "y0s=[(10,1,0),(9,2,0),(8,1,2)]\n",
    "\n",
    "sir=SIR(beta,gamma)\n",
    "y0 = y0s[0]\n",
    "sol = solve_ivp(sir,(t0,tf),y0,t_eval=t_arr)\n",
    "ax.plot(t_arr,sol.y[0],label=\"S\",color=S_)\n",
    "ax.plot(t_arr,sol.y[1],label=\"I\",color=I_)\n",
    "ax.plot(t_arr,sol.y[2],label=\"R\",color=R_)\n",
    "l1 = ax.legend()\n",
    "\n",
    "y0 = y0s[1]\n",
    "sol = solve_ivp(sir,(t0,tf),y0,t_eval=t_arr)\n",
    "ax.plot(t_arr,sol.y[0],color=S_,linestyle=\"dashed\")\n",
    "ax.plot(t_arr,sol.y[1],color=I_,linestyle=\"dashed\")\n",
    "ax.plot(t_arr,sol.y[2],color=R_,linestyle=\"dashed\")\n",
    "\n",
    "y0 = y0s[2]\n",
    "sol = solve_ivp(sir,(t0,tf),y0,t_eval=t_arr)\n",
    "ax.plot(t_arr,sol.y[0],color=S_,linestyle=\"dotted\")\n",
    "ax.plot(t_arr,sol.y[1],color=I_,linestyle=\"dotted\")\n",
    "ax.plot(t_arr,sol.y[2],color=R_,linestyle=\"dotted\")\n",
    "\n",
    "ax2 = ax.twinx()\n",
    "ax2.set_visible(False)\n",
    "ax2.plot(1,1,color=\"black\",label=f\"$S_0={y0s[0][0]}, I_0={y0s[0][1]}, R_0={y0s[0][2]}$\")\n",
    "ax2.plot(1,1,color=\"black\",label=f\"$S_0={y0s[1][0]}, I_0={y0s[1][1]}, R_0={y0s[1][2]}$\",linestyle=\"dashed\")\n",
    "ax2.plot(1,1,color=\"black\",label=f\"$S_0={y0s[2][0]}, I_0={y0s[2][1]}, R_0={y0s[2][2]}$\",linestyle=\"dotted\")\n",
    "ax2.set_visible(True)\n",
    "ax2.set_axis_off()\n",
    "\n",
    "l2 = ax2.legend(loc=\"upper center\")\n",
    "ax.add_artist(l1)\n",
    "\n",
    "ax.set_ylabel(\"Class Population\")\n",
    "ax.set_xlabel(\"$t$\")\n",
    "ax.set_title(r\"SIR with $\\gamma=\" + f\"{gamma}\"+r\", \\beta=\"+f\"{beta}$, variable ICs\")\n",
    "savefig(\"variable_ics.png\")"
   ]
  },
  {
   "cell_type": "code",
   "execution_count": null,
   "metadata": {},
   "outputs": [],
   "source": []
  }
 ],
 "metadata": {
  "kernelspec": {
   "display_name": ".venv",
   "language": "python",
   "name": "python3"
  },
  "language_info": {
   "codemirror_mode": {
    "name": "ipython",
    "version": 3
   },
   "file_extension": ".py",
   "mimetype": "text/x-python",
   "name": "python",
   "nbconvert_exporter": "python",
   "pygments_lexer": "ipython3",
   "version": "3.12.0"
  }
 },
 "nbformat": 4,
 "nbformat_minor": 2
}
