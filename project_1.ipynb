{
 "cells": [
  {
   "cell_type": "code",
   "execution_count": 2,
   "metadata": {},
   "outputs": [],
   "source": [
    "import sys, os\n",
    "from os.path import join, dirname, abspath\n",
    "import matplotlib.pyplot as plt\n",
    "import numpy as np\n",
    "plt.rcParams.update({\n",
    "    \"text.usetex\": False,\n",
    "    \"ytick.minor.visible\":True,\n",
    "    \"xtick.minor.visible\":True,\n",
    "    'xtick.direction': \"in\",\n",
    "    'ytick.direction': \"in\"\n",
    "})\n",
    "outdir = \"project_1_out\"\n",
    "os.makedirs(outdir,exist_ok=True)\n",
    "def out(fname): return join(outdir,fname)\n",
    "def savefig(plot_name): \n",
    "    plt.savefig(out(plot_name),bbox_inches=\"tight\",dpi=250)"
   ]
  },
  {
   "cell_type": "code",
   "execution_count": 3,
   "metadata": {},
   "outputs": [],
   "source": [
    "brown = \"tab:brown\"\n",
    "green = \"tab:green\""
   ]
  },
  {
   "cell_type": "markdown",
   "metadata": {},
   "source": [
    "# Part 1"
   ]
  },
  {
   "cell_type": "code",
   "execution_count": 4,
   "metadata": {},
   "outputs": [],
   "source": [
    "d0 = 100\n",
    "p_carrying = 3000\n",
    "p0 = p_carrying\n",
    "# p0 = 1000\n",
    "plant_r = 0.8"
   ]
  },
  {
   "cell_type": "code",
   "execution_count": 5,
   "metadata": {},
   "outputs": [],
   "source": [
    "def linear_eating(p,dt):\n",
    "    return (1.2/p_carrying)*p*dt\n",
    "\n",
    "def linear_birth(p,dt):\n",
    "    return (1.5/p_carrying)*p*dt\n",
    "\n",
    "def exponential_eating(p,dt):\n",
    "    k = 0.001 - np.log(dt)/p_carrying\n",
    "    return 1.2*dt * (1 - np.exp(-k*p))\n",
    "\n",
    "def exponential_birth(p,dt):\n",
    "    k = 0.001 - np.log(dt)/p_carrying\n",
    "    return 1.5*dt * (1 - np.exp(-k*p))\n",
    "\n",
    "def deer_recurrence(dn_1, pn_1, dt, b=linear_birth):\n",
    "    # print(f\"{dn_1} - {1.1*dn_1*dt} + {(1.5/p_carrying)*pn_1*dn_1 * dt}\")\n",
    "    return dn_1 - 1.1*dn_1*dt + b(pn_1,dt)*dn_1\n",
    "\n",
    "def plant_recurrence(pn_1, dn_1, dt, E=linear_eating):\n",
    "    # p(n) = p(n-1) + p(n-1) * g(p(n-1)) - d(n-1) * E(p(n-1))\n",
    "    return pn_1 + pn_1 * (plant_r * (1 - pn_1 / p_carrying)) * dt - E(pn_1,dt) * dn_1"
   ]
  },
  {
   "cell_type": "markdown",
   "metadata": {},
   "source": [
    "### No deer"
   ]
  },
  {
   "cell_type": "code",
   "execution_count": null,
   "metadata": {},
   "outputs": [],
   "source": [
    "n_steps = 30*365\n",
    "dt_1 = 1/365\n",
    "\n",
    "# ^ this means we run for thirty years at intervals of one year\n",
    "\n",
    "n = np.arange(n_steps)\n",
    "d = np.empty_like(n)\n",
    "p = np.empty_like(n)\n",
    "\n",
    "d.dtype = float\n",
    "p.dtype = float\n",
    "\n",
    "p[0] = 1\n",
    "d[0] = 0\n",
    "\n",
    "for i in range(1,len(n)):\n",
    "    p[i] = plant_recurrence(p[i-1],d[i-1], dt_1)\n",
    "    d[i] = deer_recurrence(d[i-1],p[i-1], dt_1)\n",
    "\n",
    "plt.plot(n*dt_1,p,label=\"plants\",c=\"tab:green\") \n",
    "# plt.plot(n*dt_1,d,label=\"deer\",c=\"tab:brown\")\n",
    "plt.ylabel(\"Plant Density $p(n)$\")\n",
    "plt.xlabel(\"Year\")\n",
    "plt.title(\"Plant Population (no deer)\")\n",
    "# _=plt.legend() "
   ]
  },
  {
   "cell_type": "markdown",
   "metadata": {},
   "source": [
    "### Deer, linear, dt = 1"
   ]
  },
  {
   "cell_type": "code",
   "execution_count": null,
   "metadata": {},
   "outputs": [],
   "source": [
    "n_steps = 30\n",
    "dt_1 = 1\n",
    "\n",
    "# ^ this means we run for thirty years at intervals of one year\n",
    "\n",
    "n = np.arange(n_steps)\n",
    "d = np.empty_like(n)\n",
    "p = np.empty_like(n)\n",
    "\n",
    "d.dtype = float\n",
    "p.dtype = float\n",
    "\n",
    "p[0] = p0\n",
    "d[0] = d0\n",
    "\n",
    "for i in range(1,len(n)):\n",
    "    p[i] = plant_recurrence(p[i-1],d[i-1], dt_1)\n",
    "    d[i] = deer_recurrence(d[i-1],p[i-1], dt_1)\n",
    "\n",
    "fig, ax1 = plt.subplots()\n",
    "\n",
    "plt.xlabel(\"Year\")\n",
    "ax1.set_ylabel('Deer', color=brown)\n",
    "ax1.plot(n*dt_1, d, color=brown, label='deer')\n",
    "ax1.tick_params(axis='y', labelcolor=brown)\n",
    "\n",
    "ax2 = ax1.twinx()\n",
    "ax2.set_ylabel('Plants', color=green)\n",
    "ax2.plot(n*dt_1, p, color=green, label='plants')\n",
    "ax2.tick_params(axis='y', labelcolor=green)\n",
    "\n",
    "plt.title(\"Deer and Plant Population (dt = 1 year)\")\n",
    "plt.show()\n"
   ]
  },
  {
   "cell_type": "markdown",
   "metadata": {},
   "source": [
    "### Deer, linear, dt = 1/365"
   ]
  },
  {
   "cell_type": "code",
   "execution_count": null,
   "metadata": {},
   "outputs": [],
   "source": [
    "n_steps = 30*365\n",
    "dt_2 = 1/365\n",
    "\n",
    "# ^ this means we run for thirty years at intervals of one day\n",
    "\n",
    "n_2 = np.arange(n_steps)\n",
    "d_2 = np.empty_like(n_2)\n",
    "p_2 = np.empty_like(n_2)\n",
    "\n",
    "d_2.dtype = float\n",
    "p_2.dtype = float\n",
    "\n",
    "p_2[0] = p0\n",
    "d_2[0] = d0\n",
    "\n",
    "for i in range(1,len(n_2)):\n",
    "    p_2[i] = plant_recurrence(p_2[i-1],d_2[i-1], dt_2)\n",
    "    d_2[i] = deer_recurrence(d_2[i-1],p_2[i-1], dt_2)\n",
    "\n",
    "fig, ax1 = plt.subplots()\n",
    "\n",
    "plt.xlabel(\"Year\")\n",
    "ax1.set_ylabel('Deer', color=brown)\n",
    "ax1.plot(n_2*dt_2, d_2, color=brown, label='deer')\n",
    "ax1.tick_params(axis='y', labelcolor=brown)\n",
    "\n",
    "ax2 = ax1.twinx()\n",
    "ax2.set_ylabel('Plants', color=green)\n",
    "ax2.plot(n_2*dt_2, p_2, color=green, label='plants')\n",
    "ax2.tick_params(axis='y', labelcolor=green)\n",
    "\n",
    "plt.title(\"Deer and Plant Population (dt = 1 day)\")\n",
    "plt.show()"
   ]
  },
  {
   "cell_type": "code",
   "execution_count": 9,
   "metadata": {},
   "outputs": [],
   "source": [
    "def model(n_years, dt, birth_function, eat_function):\n",
    "    n_steps = n_years/dt\n",
    "    # ^ this means we run for n years at intervals of dt\n",
    "\n",
    "    n = np.arange(n_steps)\n",
    "    d = np.empty_like(n)\n",
    "    p = np.empty_like(n)\n",
    "\n",
    "    d.dtype = float\n",
    "    p.dtype = float\n",
    "\n",
    "    p[0] = p0\n",
    "    d[0] = d0\n",
    "\n",
    "    for i in range(1,len(n)):\n",
    "        p[i] = plant_recurrence(p[i-1],d[i-1], dt, eat_function)\n",
    "        d[i] = deer_recurrence(d[i-1],p[i-1], dt, birth_function)\n",
    "    \n",
    "    return n,p,d"
   ]
  },
  {
   "cell_type": "code",
   "execution_count": null,
   "metadata": {},
   "outputs": [],
   "source": [
    "dt1 = 1\n",
    "dt2 = 1/365\n",
    "\n",
    "n1, p1, d1 = model(30, dt1, linear_birth, linear_eating)\n",
    "n2, p2, d2 = model(30, dt2, linear_birth, linear_eating)\n",
    "\n",
    "fig, ax1 = plt.subplots()\n",
    "\n",
    "plt.xlabel(\"Year\")\n",
    "ax1.set_ylabel('Deer', color=brown)\n",
    "l1 = ax1.plot(n1*dt1,d1,label=\"deer (dt = 1 year)\",c=\"tab:brown\",linestyle=\"dashed\",alpha=0.75)\n",
    "l2 = ax1.plot(n2*dt2,d2,label=\"deer (dt = 1 day)\",c=\"tab:brown\",alpha=0.75)\n",
    "ax1.tick_params(axis='y', labelcolor=brown)\n",
    "\n",
    "ax2 = ax1.twinx()\n",
    "ax2.set_ylabel('Plants', color=green)\n",
    "l3 = ax2.plot(n1*dt1,p1,label=\"plants (dt = 1 year)\",c=\"tab:green\",linestyle=\"dashed\",alpha=0.75) \n",
    "l4 = ax2.plot(n2*dt2,p2,label=\"plants (dt = 1 day)\",c=\"tab:green\",alpha=0.75) \n",
    "ax2.tick_params(axis='y', labelcolor=green)\n",
    "\n",
    "leg1 = ax1.legend([l1[0], l2[0]], [\"deer (dt = 1 year)\", \"deer (dt = 1 day)\"], loc='center left', bbox_to_anchor=(0.5, 0.5), frameon=False)\n",
    "leg2 = ax2.legend([l3[0], l4[0]], [\"plants (dt = 1 year)\", \"plants (dt = 1 day)\"], loc='center left', bbox_to_anchor=(0.5, 0.4), frameon=False)\n",
    "\n",
    "plt.title(\"Deer and Plant Population\")\n",
    "plt.show()\n",
    "\n",
    "\n",
    "#######\n",
    "\n",
    "savefig(\"population_1y_1d_linear.png\")"
   ]
  },
  {
   "cell_type": "code",
   "execution_count": null,
   "metadata": {},
   "outputs": [],
   "source": [
    "dt1 = 1\n",
    "dt2 = 1/365\n",
    "\n",
    "n1, p1, d1 = model(100, dt1, linear_birth, linear_eating)\n",
    "n2, p2, d2 = model(100, dt2, linear_birth, linear_eating)\n",
    "\n",
    "fig, ax1 = plt.subplots()\n",
    "\n",
    "plt.xlabel(\"Year\")\n",
    "ax1.set_ylabel('Deer', color=brown)\n",
    "l1 = ax1.plot(n1*dt1,d1,label=\"deer (dt = 1 year)\",c=\"tab:brown\",linestyle=\"dashed\",alpha=0.75)\n",
    "l2 = ax1.plot(n2*dt2,d2,label=\"deer (dt = 1 day)\",c=\"tab:brown\",alpha=0.75)\n",
    "ax1.tick_params(axis='y', labelcolor=brown)\n",
    "\n",
    "ax2 = ax1.twinx()\n",
    "ax2.set_ylabel('Plants', color=green)\n",
    "l3 = ax2.plot(n1*dt1,p1,label=\"plants (dt = 1 year)\",c=\"tab:green\",linestyle=\"dashed\",alpha=0.75) \n",
    "l4 = ax2.plot(n2*dt2,p2,label=\"plants (dt = 1 day)\",c=\"tab:green\",alpha=0.75) \n",
    "ax2.tick_params(axis='y', labelcolor=green)\n",
    "\n",
    "leg1 = ax1.legend([l1[0], l2[0]], [\"deer (dt = 1 year)\", \"deer (dt = 1 day)\"], loc='center left', bbox_to_anchor=(0.5, 0.5), frameon=False)\n",
    "leg2 = ax2.legend([l3[0], l4[0]], [\"plants (dt = 1 year)\", \"plants (dt = 1 day)\"], loc='center left', bbox_to_anchor=(0.5, 0.4), frameon=False)\n",
    "\n",
    "plt.title(\"Deer and Plant Population\")\n",
    "plt.show()\n",
    "\n",
    "\n",
    "#######\n",
    "\n",
    "# savefig(\"population_1y_1d_linear.png\")"
   ]
  },
  {
   "cell_type": "code",
   "execution_count": null,
   "metadata": {},
   "outputs": [],
   "source": [
    "print(f\"Deer: mean={np.mean(d2[-50:])}, med={np.median(d2[-50:])}\")\n",
    "print(f\"Plants: mean={np.mean(p2[-50:])}, med={np.median(p2[-50:])}\")"
   ]
  },
  {
   "cell_type": "code",
   "execution_count": null,
   "metadata": {},
   "outputs": [],
   "source": [
    "print(f\"Deer: mean={np.mean(d1[-50:])}, med={np.median(d1[-50:])}\")\n",
    "print(f\"Plants: mean={np.mean(p1[-50:])}, med={np.median(p1[-50:])}\")"
   ]
  },
  {
   "cell_type": "code",
   "execution_count": null,
   "metadata": {},
   "outputs": [],
   "source": [
    "plt.plot(d,p)\n",
    "plt.ylabel(\"Plant Density\")\n",
    "plt.xlabel(\"Deer Population\")\n",
    "plt.title(\"Phase Plane: dt = 1 year\")\n",
    "savefig(\"phase_plane_1_year_linear.png\")"
   ]
  },
  {
   "cell_type": "code",
   "execution_count": null,
   "metadata": {},
   "outputs": [],
   "source": [
    "plt.plot(d_2,p_2)\n",
    "plt.ylabel(\"Plant Density\")\n",
    "plt.xlabel(\"Deer Population\")\n",
    "plt.title(\"Phase Plane: dt = 1 day\")\n",
    "savefig(\"phase_plane_1_day_linear.png\")"
   ]
  },
  {
   "cell_type": "code",
   "execution_count": null,
   "metadata": {},
   "outputs": [],
   "source": [
    "plt.plot(d,p, label=\"dt = 1 year\",color=\"tab:blue\",linestyle=\"dashed\")\n",
    "plt.plot(d_2,p_2,label=\"dt = 1 day\",color=\"tab:blue\")\n",
    "\n",
    "plt.ylabel(\"Plant Density\")\n",
    "plt.xlabel(\"Deer Population\")\n",
    "plt.title(\"Phase Plane\")\n",
    "plt.legend()\n",
    "savefig(\"phase_plane_both_linear.png\")"
   ]
  },
  {
   "cell_type": "markdown",
   "metadata": {},
   "source": [
    "# Part 2"
   ]
  },
  {
   "cell_type": "code",
   "execution_count": null,
   "metadata": {},
   "outputs": [],
   "source": [
    "dt = 1/365\n",
    "duration = 100 # years\n",
    "\n",
    "n1, p1, d1 = model(duration, dt, linear_birth, linear_eating)\n",
    "n2, p2, d2 = model(duration, dt, exponential_birth, exponential_eating)\n",
    "\n",
    "fig, ax1 = plt.subplots()\n",
    "\n",
    "plt.xlabel(\"Year\")\n",
    "ax1.set_ylabel('Deer', color=brown)\n",
    "l1 = ax1.plot(n1*dt,d1,label=\"deer (linear)\",c=\"tab:brown\",linestyle=\"dashed\",alpha=0.75)\n",
    "l2 = ax1.plot(n2*dt,d2,label=\"deer (exponential)\",c=\"tab:brown\",alpha=0.75)\n",
    "ax1.tick_params(axis='y', labelcolor=brown)\n",
    "\n",
    "ax2 = ax1.twinx()\n",
    "ax2.set_ylabel('Plants', color=green)\n",
    "l3 = ax2.plot(n1*dt,p1,label=\"plants (linear)\",c=\"tab:green\",linestyle=\"dashed\",alpha=0.75) \n",
    "l4 = ax2.plot(n2*dt,p2,label=\"plants (exponential)\",c=\"tab:green\",alpha=0.75) \n",
    "ax2.tick_params(axis='y', labelcolor=green)\n",
    "\n",
    "leg1 = ax1.legend([l1[0], l2[0], l3[0],l4[0]], [\"d (lin)\", \"d (exp)\", \"p (lin)\", \"p (exp)\"], loc='upper center',  ncol=4)\n",
    "\n",
    "# leg1 = ax1.legend([l1[0], l2[0]], [\"deer (linear)\", \"deer (exponential)\"], loc='center left', bbox_to_anchor=(0.5, 0.5), frameon=False)\n",
    "# leg2 = ax2.legend([l3[0], l4[0]], [\"plants (linear)\", \"plants (exponential)\"], loc='center left', bbox_to_anchor=(0.5, 0.4), frameon=False)\n",
    "\n",
    "plt.title(\"Deer and Plant Population (dt = 1 day)\")\n",
    "\n",
    "xlims_1day_exp = ax1.get_xlim()\n",
    "ylims_1day_exp = ax1.get_ylim()\n",
    "ylims_2_1day_exp = ax2.get_ylim()\n",
    "######\n",
    "\n",
    "# plt.plot(n1*dt,p1,label=\"plants (linear)\",c=\"tab:green\",linestyle=\"dashed\",alpha=0.75) \n",
    "# plt.plot(n1*dt,d1,label=\"deer (linear)\",c=\"tab:brown\",linestyle=\"dashed\",alpha=0.75)\n",
    "\n",
    "# plt.plot(n2*dt,p2,label=\"plants (exponential)\",c=\"tab:green\",alpha=0.75) \n",
    "# plt.plot(n2*dt,d2,label=\"deer (exponential)\",c=\"tab:brown\",alpha=0.75)\n",
    "\n",
    "# plt.ylabel(\"Plant Density | Deer Population\")\n",
    "# plt.xlabel(\"Year\")\n",
    "# plt.title(\"Deer and Plant Population (dt = 1 day)\")\n",
    "# _=plt.legend() \n",
    "savefig(\"exponential_vs_linear_1_day.png\")"
   ]
  },
  {
   "cell_type": "code",
   "execution_count": null,
   "metadata": {},
   "outputs": [],
   "source": [
    "plt.plot(d2,p2)\n",
    "plt.ylabel(\"Plant Density\")\n",
    "plt.xlabel(\"Deer Population\")\n",
    "plt.title(\"Phase Plane: dt = 1 day (exponential)\")\n",
    "savefig(\"phase_plane_1_day_exp.png\")"
   ]
  },
  {
   "cell_type": "code",
   "execution_count": 17,
   "metadata": {},
   "outputs": [],
   "source": [
    "import matplotlib.animation as animation"
   ]
  },
  {
   "cell_type": "code",
   "execution_count": null,
   "metadata": {},
   "outputs": [],
   "source": [
    "fig,ax1 = plt.subplots()\n",
    "ax1.set_xlim(*xlims_1day_exp)\n",
    "ax1.set_ylim(*ylims_1day_exp)\n",
    "ax2 = ax1.twinx()\n",
    "\n",
    "def anim(frame):\n",
    "    frame = int(frame/dt)\n",
    "    ax1.cla()\n",
    "\n",
    "    ax1.set_xlabel(\"Year\")\n",
    "    ax1.set_ylabel('Deer', color=brown)\n",
    "    l1 = ax1.plot(n1[:frame]*dt,d1[:frame],label=\"deer (linear)\",c=\"tab:brown\",linestyle=\"dashed\",alpha=0.75)\n",
    "    l2 = ax1.plot(n2[:frame]*dt,d2[:frame],label=\"deer (exponential)\",c=\"tab:brown\",alpha=0.75)\n",
    "    ax1.tick_params(axis='y', labelcolor=brown)\n",
    "\n",
    "    ax1.set_xlim(*xlims_1day_exp)\n",
    "    ax1.set_ylim(*ylims_1day_exp)\n",
    "    ax2.set_ylim(*ylims_2_1day_exp)\n",
    "\n",
    "    # ax2 = ax1.twinx()\n",
    "    ax2.set_ylabel('Plants', color=green)\n",
    "    l3 = ax2.plot(n1[:frame]*dt,p1[:frame],label=\"plants (linear)\",c=\"tab:green\",linestyle=\"dashed\",alpha=0.75) \n",
    "    l4 = ax2.plot(n2[:frame]*dt,p2[:frame],label=\"plants (exponential)\",c=\"tab:green\",alpha=0.75) \n",
    "    ax2.tick_params(axis='y', labelcolor=green)\n",
    "    ax1.set_title(\"Deer and Plant Population (dt = 1 day)\")\n",
    "    leg1 = ax1.legend([l1[0], l2[0], l3[0],l4[0]], [\"d (lin)\", \"d (exp)\", \"p (lin)\", \"p (exp)\"], loc='upper center',  ncol=4)\n",
    "    return [l1,l2,l3,l4,leg1]\n",
    "\n",
    "ani = animation.FuncAnimation(fig=fig, func=anim, frames=100, interval=75, repeat=False)\n",
    "ani.save(filename=out(\"deer_1day_exp_lin.gif\"), writer=\"pillow\",dpi=150)\n"
   ]
  },
  {
   "cell_type": "markdown",
   "metadata": {},
   "source": [
    "## dt = 1 year"
   ]
  },
  {
   "cell_type": "code",
   "execution_count": null,
   "metadata": {},
   "outputs": [],
   "source": [
    "dt = 1\n",
    "duration = 100 # years\n",
    "\n",
    "n1, p1, d1 = model(duration, dt, linear_birth, linear_eating)\n",
    "n2, p2, d2 = model(duration, dt, exponential_birth, exponential_eating)\n",
    "\n",
    "fig, ax1 = plt.subplots()\n",
    "\n",
    "plt.xlabel(\"Year\")\n",
    "ax1.set_ylabel('Deer', color=brown)\n",
    "l1 = ax1.plot(n1*dt,d1,label=\"deer (linear)\",c=\"tab:brown\",linestyle=\"dashed\",alpha=0.75)\n",
    "l2 = ax1.plot(n2*dt,d2,label=\"deer (exponential)\",c=\"tab:brown\",alpha=0.75)\n",
    "ax1.tick_params(axis='y', labelcolor=brown)\n",
    "\n",
    "ax2 = ax1.twinx()\n",
    "ax2.set_ylabel('Plants', color=green)\n",
    "l3 = ax2.plot(n1*dt,p1,label=\"plants (linear)\",c=\"tab:green\",linestyle=\"dashed\",alpha=0.75) \n",
    "l4 = ax2.plot(n2*dt,p2,label=\"plants (exponential)\",c=\"tab:green\",alpha=0.75) \n",
    "ax2.tick_params(axis='y', labelcolor=green)\n",
    "\n",
    "# leg1 = ax1.legend([l1[0], l2[0]], [\"deer (linear)\", \"deer (exponential)\"], loc='center left', bbox_to_anchor=(0.5, 0.5), frameon=False)\n",
    "leg1 = ax1.legend([l1[0], l2[0], l3[0],l4[0]], [\"d (lin)\", \"d (exp)\", \"p (lin)\", \"p (exp)\"], loc='upper center',  ncol=4)\n",
    "# leg2 = ax2.legend([l3[0], l4[0]], [\"plants (linear)\", \"plants (exponential)\"], loc='center left', bbox_to_anchor=(0.5, 0.4), frameon=False)\n",
    "\n",
    "xlims_1year_exp = ax1.get_xlim()\n",
    "ylims_1year_exp = ax1.get_ylim()\n",
    "ylims_2_1year_exp = ax2.get_ylim()\n",
    "\n",
    "plt.title(\"Deer and Plant Population (dt = 1 year)\")\n",
    "\n",
    "###\n",
    "\n",
    "# plt.plot(n1*dt,p1,label=\"plants (linear)\",c=\"tab:green\",linestyle=\"dashed\",alpha=0.75) \n",
    "# plt.plot(n1*dt,d1,label=\"deer (linear)\",c=\"tab:brown\",linestyle=\"dashed\",alpha=0.75)\n",
    "\n",
    "# plt.plot(n2*dt,p2,label=\"plants (exponential)\",c=\"tab:green\",alpha=0.75) \n",
    "# plt.plot(n2*dt,d2,label=\"deer (exponential)\",c=\"tab:brown\",alpha=0.75)\n",
    "\n",
    "# plt.ylabel(\"Plant Density | Deer Population\")\n",
    "# plt.xlabel(\"Year\")\n",
    "# plt.title(\"Deer and Plant Population (dt = 1 year)\")\n",
    "# _=plt.legend()\n",
    "savefig(\"exponential_vs_linear_1_year.png\")"
   ]
  },
  {
   "cell_type": "code",
   "execution_count": null,
   "metadata": {},
   "outputs": [],
   "source": [
    "plt.plot(d2,p2)\n",
    "plt.ylabel(\"Plant Density\")\n",
    "plt.xlabel(\"Deer Population\")\n",
    "plt.title(\"Phase Plane: dt = 1 year (exponential)\")\n",
    "savefig(\"phase_plane_1_year_exp.png\")"
   ]
  },
  {
   "cell_type": "code",
   "execution_count": null,
   "metadata": {},
   "outputs": [],
   "source": [
    "print(d2)\n",
    "print(p2)"
   ]
  },
  {
   "cell_type": "code",
   "execution_count": null,
   "metadata": {},
   "outputs": [],
   "source": [
    "fig,ax1 = plt.subplots()\n",
    "ax1.set_xlim(*xlims_1year_exp)\n",
    "ax1.set_ylim(*ylims_1year_exp)\n",
    "ax2 = ax1.twinx()\n",
    "\n",
    "def anim(frame):\n",
    "    ax1.cla()\n",
    "\n",
    "    ax1.set_xlabel(\"Year\")\n",
    "    ax1.set_ylabel('Deer', color=brown)\n",
    "    l1 = ax1.plot(n1[:frame]*dt,d1[:frame],label=\"deer (linear)\",c=\"tab:brown\",linestyle=\"dashed\",alpha=0.75)\n",
    "    l2 = ax1.plot(n2[:frame]*dt,d2[:frame],label=\"deer (exponential)\",c=\"tab:brown\",alpha=0.75)\n",
    "    ax1.tick_params(axis='y', labelcolor=brown)\n",
    "\n",
    "    ax1.set_xlim(*xlims_1year_exp)\n",
    "    ax1.set_ylim(*ylims_1year_exp)\n",
    "    ax2.set_ylim(*ylims_2_1year_exp)\n",
    "\n",
    "    # ax2 = ax1.twinx()\n",
    "    ax2.set_ylabel('Plants', color=green)\n",
    "    l3 = ax2.plot(n1[:frame]*dt,p1[:frame],label=\"plants (linear)\",c=\"tab:green\",linestyle=\"dashed\",alpha=0.75) \n",
    "    l4 = ax2.plot(n2[:frame]*dt,p2[:frame],label=\"plants (exponential)\",c=\"tab:green\",alpha=0.75) \n",
    "    ax2.tick_params(axis='y', labelcolor=green)\n",
    "    ax1.set_title(\"Deer and Plant Population (dt = 1 year)\")\n",
    "    leg1 = ax1.legend([l1[0], l2[0], l3[0],l4[0]], [\"d (lin)\", \"d (exp)\", \"p (lin)\", \"p (exp)\"], loc='upper center',  ncol=4)\n",
    "    return [l1,l2,l3,l4,leg1]\n",
    "\n",
    "ani = animation.FuncAnimation(fig=fig, func=anim, frames=100, interval=75, repeat=False)\n",
    "ani.save(filename=f\"deer_1year_exp_lin.gif\", writer=\"pillow\",dpi=150)\n"
   ]
  },
  {
   "cell_type": "code",
   "execution_count": null,
   "metadata": {},
   "outputs": [],
   "source": [
    "r = 1.5\n",
    "\n",
    "def exp(x,r): return r*(1-np.exp(-0.001*x)) \n",
    "def lin(x,r): return (r / 3000) * x\n",
    "x=np.linspace(0,5000,10000)\n",
    "plt.plot(x,exp(x,r))\n",
    "plt.plot(x,lin(x,r))\n",
    "ylims = plt.ylim()\n",
    "xlims = plt.xlim()\n",
    "plt.vlines(3000,*ylims,linestyles=\"dashed\",color=\"tab:green\")\n",
    "plt.hlines(r,*xlims,linestyles=\"dashed\",color=\"tab:green\")\n",
    "plt.ylim(ylims)\n",
    "plt.xlim(xlims)\n",
    "plt.title(f\"Exponential vs linear rate, r={r}\")"
   ]
  },
  {
   "cell_type": "code",
   "execution_count": null,
   "metadata": {},
   "outputs": [],
   "source": []
  }
 ],
 "metadata": {
  "kernelspec": {
   "display_name": ".venv",
   "language": "python",
   "name": "python3"
  },
  "language_info": {
   "codemirror_mode": {
    "name": "ipython",
    "version": 3
   },
   "file_extension": ".py",
   "mimetype": "text/x-python",
   "name": "python",
   "nbconvert_exporter": "python",
   "pygments_lexer": "ipython3",
   "version": "3.12.0"
  }
 },
 "nbformat": 4,
 "nbformat_minor": 2
}
