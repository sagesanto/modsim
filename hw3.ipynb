{
 "cells": [
  {
   "cell_type": "code",
   "execution_count": 3,
   "metadata": {},
   "outputs": [],
   "source": [
    "import sys, os\n",
    "from os.path import join, dirname, abspath\n",
    "import matplotlib.pyplot as plt\n",
    "import numpy as np\n",
    "plt.rcParams.update({\n",
    "    \"text.usetex\": False,\n",
    "    # \"font.family\": \"Helvetica\",\n",
    "    # \"font.size\": 12,\n",
    "    \"ytick.minor.visible\":True,\n",
    "    \"xtick.minor.visible\":True,\n",
    "    'xtick.direction': \"in\",\n",
    "    'ytick.direction': \"in\"\n",
    "})\n",
    "outdir = \"hw3_out\"\n",
    "os.makedirs(outdir,exist_ok=True)\n",
    "def out(fname): return join(outdir,fname)\n",
    "def savefig(plot_name): \n",
    "    plt.savefig(out(plot_name),bbox_inches=\"tight\",dpi=250)"
   ]
  },
  {
   "cell_type": "markdown",
   "metadata": {},
   "source": [
    "# Problem 1"
   ]
  },
  {
   "cell_type": "code",
   "execution_count": 4,
   "metadata": {},
   "outputs": [],
   "source": [
    "d = np.array([230,174,220,155,200,125,180,118,140,120,170,100,204,180,120,95,175,135,130,135,155,130,200,145,198,180,120,165,175,150,145,170,210,145,134,120,123,185,205,160,145,170,210,145,134,120,123,185,205,160,160,185,115,155,163,200,145,120,155,155,133,115,146,205,150,141,115,125,125,150,143,148,165,130,130,120,175,199,162,120,143,148,165,130,130,120,175,199,162,120,175,155,200,155,150,140,165,185,169,150,150,190,164,155,197,180,118,135,133,115,146,205,150,141,115,125,125,150,143,148])"
   ]
  },
  {
   "cell_type": "markdown",
   "metadata": {},
   "source": [
    "## a"
   ]
  },
  {
   "cell_type": "code",
   "execution_count": null,
   "metadata": {},
   "outputs": [],
   "source": [
    "def harmonic_mean(arr):\n",
    "    return len(arr)/(np.sum(1/arr))\n",
    "\n",
    "def geometric_mean(arr):\n",
    "    return np.exp(1/len(arr) * np.sum(np.log(arr)))\n",
    "\n",
    "print(\"Arithmetic mean:\",np.mean(d))\n",
    "print(\"Geometric mean:\",geometric_mean(d))\n",
    "print(\"Harmonic mean:\",harmonic_mean(d)) \n",
    "print(\"std:\",np.std(d))"
   ]
  },
  {
   "cell_type": "markdown",
   "metadata": {},
   "source": [
    "## b"
   ]
  },
  {
   "cell_type": "code",
   "execution_count": null,
   "metadata": {},
   "outputs": [],
   "source": [
    "plt.hist(d)\n",
    "plt.title(\"Histogram with 10 bins (default)\")\n",
    "savefig(\"10_bin_hist.png\")"
   ]
  },
  {
   "cell_type": "code",
   "execution_count": null,
   "metadata": {},
   "outputs": [],
   "source": [
    "nbins = int(1+3.3*np.log(len(d)))\n",
    "plt.hist(d,bins=nbins)\n",
    "plt.title(f\"Histogram with {nbins} bins (1+3.3*ln(n))\")\n",
    "savefig(\"16_bin_hist.png\")"
   ]
  },
  {
   "cell_type": "markdown",
   "metadata": {},
   "source": [
    "# d"
   ]
  },
  {
   "cell_type": "code",
   "execution_count": null,
   "metadata": {},
   "outputs": [],
   "source": [
    "plt.boxplot(d)\n",
    "plt.xticks([])\n",
    "savefig(\"boxplot.png\")"
   ]
  },
  {
   "cell_type": "code",
   "execution_count": null,
   "metadata": {},
   "outputs": [],
   "source": [
    "N=1_000_000\n",
    "def p(x): return np.sqrt(2/(np.pi*N))*np.exp(-2*x**2/N)\n",
    "x_arr = np.arange(-N/2,N/2)\n",
    "plt.plot(x_arr,p(x_arr))\n",
    "plt.xlim(-1000,1000)"
   ]
  },
  {
   "cell_type": "code",
   "execution_count": 16,
   "metadata": {},
   "outputs": [],
   "source": [
    "from scipy.integrate import quad"
   ]
  },
  {
   "cell_type": "code",
   "execution_count": null,
   "metadata": {},
   "outputs": [],
   "source": [
    "quad(p,0,100)"
   ]
  },
  {
   "cell_type": "code",
   "execution_count": null,
   "metadata": {},
   "outputs": [],
   "source": [
    "quad(p,0,1000)"
   ]
  },
  {
   "cell_type": "code",
   "execution_count": null,
   "metadata": {},
   "outputs": [],
   "source": [
    "quad(p,-707,707)"
   ]
  },
  {
   "cell_type": "code",
   "execution_count": null,
   "metadata": {},
   "outputs": [],
   "source": [
    "quad(p,-1000,1000)[0] - quad(p,-707,707)[0]"
   ]
  },
  {
   "cell_type": "code",
   "execution_count": null,
   "metadata": {},
   "outputs": [],
   "source": [
    "quad(p,1000,N/2)[0]"
   ]
  },
  {
   "cell_type": "code",
   "execution_count": null,
   "metadata": {},
   "outputs": [],
   "source": [
    "quad(p,10000,N/2)[0]"
   ]
  },
  {
   "cell_type": "code",
   "execution_count": null,
   "metadata": {},
   "outputs": [],
   "source": []
  }
 ],
 "metadata": {
  "kernelspec": {
   "display_name": ".venv",
   "language": "python",
   "name": "python3"
  },
  "language_info": {
   "codemirror_mode": {
    "name": "ipython",
    "version": 3
   },
   "file_extension": ".py",
   "mimetype": "text/x-python",
   "name": "python",
   "nbconvert_exporter": "python",
   "pygments_lexer": "ipython3",
   "version": "3.12.0"
  }
 },
 "nbformat": 4,
 "nbformat_minor": 2
}
