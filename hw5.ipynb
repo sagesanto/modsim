{
 "cells": [
  {
   "cell_type": "code",
   "execution_count": 56,
   "metadata": {},
   "outputs": [],
   "source": [
    "import sys, os\n",
    "from os.path import join, dirname, abspath\n",
    "import matplotlib.pyplot as plt\n",
    "from matplotlib.pyplot import Figure, Axes\n",
    "import numpy as np\n",
    "import networkx as nx\n",
    "import matplotlib.animation as animation\n",
    "from string import ascii_uppercase\n",
    "plt.rcParams.update({\n",
    "    \"text.usetex\": False,\n",
    "    \"ytick.minor.visible\":True,\n",
    "    \"xtick.minor.visible\":True,\n",
    "    'xtick.direction': \"in\",\n",
    "    'ytick.direction': \"in\"\n",
    "})\n",
    "outdir = \"hw5_out\"\n",
    "os.makedirs(outdir,exist_ok=True)\n",
    "def out(fname): return join(outdir,fname)\n",
    "def savefig(plot_name): \n",
    "    plt.savefig(out(plot_name),bbox_inches=\"tight\",dpi=250)\n",
    "import pandas as pd\n",
    "from numpy.linalg import matrix_power, eig\n",
    "\n",
    "def arr_to_latex(M):\n",
    "    return '$$\\n' + r'\\begin{bmatrix}' + '\\n' + (r'\\\\' + '\\n').join('&'.join(str(x) for x in row) for row in M) + '\\n' + r'\\end{bmatrix}' + '\\n' +'$$'\n",
    "\n",
    "def vec_to_latex(x,round=3):\n",
    "    return '$$\\n' + r'\\begin{bmatrix}' + '\\n' + (r' \\\\ ').join(str(np.round(v,round)) for v in x) + '\\n' + r'\\end{bmatrix}' + '\\n' +'$$'\n",
    "    "
   ]
  },
  {
   "cell_type": "markdown",
   "metadata": {},
   "source": [
    "# Question 1: Copier I"
   ]
  },
  {
   "cell_type": "code",
   "execution_count": 53,
   "metadata": {},
   "outputs": [],
   "source": [
    "M = np.array([[0.7,0.5],[0.3,0.5]])\n",
    "x = [1,0]"
   ]
  },
  {
   "cell_type": "code",
   "execution_count": null,
   "metadata": {},
   "outputs": [],
   "source": [
    "M @ x"
   ]
  },
  {
   "cell_type": "code",
   "execution_count": null,
   "metadata": {},
   "outputs": [],
   "source": [
    "matrix_power(M,2) @ x"
   ]
  },
  {
   "cell_type": "code",
   "execution_count": null,
   "metadata": {},
   "outputs": [],
   "source": [
    "matrix_power(M,7) @ x"
   ]
  },
  {
   "cell_type": "code",
   "execution_count": null,
   "metadata": {},
   "outputs": [],
   "source": [
    "matrix_power(M,31) @ x"
   ]
  },
  {
   "cell_type": "code",
   "execution_count": null,
   "metadata": {},
   "outputs": [],
   "source": [
    "# long-term behavior: eigenvector\n",
    "vals,vecs=eig(M)\n",
    "vals,vecs"
   ]
  },
  {
   "cell_type": "code",
   "execution_count": null,
   "metadata": {},
   "outputs": [],
   "source": [
    "vecs[:,0]/np.sum(vecs[:,0])"
   ]
  },
  {
   "cell_type": "code",
   "execution_count": null,
   "metadata": {},
   "outputs": [],
   "source": [
    "vecs[:,1]"
   ]
  },
  {
   "cell_type": "markdown",
   "metadata": {},
   "source": [
    "# Question 2: Copier II"
   ]
  },
  {
   "cell_type": "code",
   "execution_count": null,
   "metadata": {},
   "outputs": [],
   "source": [
    "M = np.array([[0.699,0.498,0],[0.3,0.5,0],[0.001,0.002,1]])\n",
    "latex_M = '$$\\n' + r'\\begin{bmatrix}' + '\\n' + (r'\\\\' + '\\n').join('&'.join(str(x) for x in row) for row in M) + '\\n' + r'\\end{bmatrix}' + '\\n' +'$$'\n",
    "print(latex_M)"
   ]
  },
  {
   "cell_type": "code",
   "execution_count": null,
   "metadata": {},
   "outputs": [],
   "source": [
    "A = M[:2,:2]\n",
    "A"
   ]
  },
  {
   "cell_type": "code",
   "execution_count": null,
   "metadata": {},
   "outputs": [],
   "source": [
    "F = np.linalg.inv(np.identity(A.shape[0])-A)\n",
    "F"
   ]
  },
  {
   "cell_type": "code",
   "execution_count": null,
   "metadata": {},
   "outputs": [],
   "source": [
    "print(arr_to_latex(F))"
   ]
  },
  {
   "cell_type": "markdown",
   "metadata": {},
   "source": [
    "# Question 3: Honeypot"
   ]
  },
  {
   "cell_type": "code",
   "execution_count": null,
   "metadata": {},
   "outputs": [],
   "source": [
    "T = np.array([[0,0,0,0,1],[0,8/13,3/13,1/13,1/13],[1/16,3/16,3/8,1/4,1/8],[0,1/11,4/11,5/11,1/11],[0,1/8,1/2,1/8,1/4]]).T\n",
    "nu = np.array([0,0,0,0,1])\n",
    "T"
   ]
  },
  {
   "cell_type": "code",
   "execution_count": null,
   "metadata": {},
   "outputs": [],
   "source": [
    "np.sum(T,axis=0)"
   ]
  },
  {
   "cell_type": "code",
   "execution_count": null,
   "metadata": {},
   "outputs": [],
   "source": [
    "x2=matrix_power(T,2) @ nu\n",
    "x2"
   ]
  },
  {
   "cell_type": "code",
   "execution_count": null,
   "metadata": {},
   "outputs": [],
   "source": [
    "print(vec_to_latex(x2))"
   ]
  },
  {
   "cell_type": "code",
   "execution_count": null,
   "metadata": {},
   "outputs": [],
   "source": [
    "np.sum(x2)"
   ]
  },
  {
   "cell_type": "code",
   "execution_count": null,
   "metadata": {},
   "outputs": [],
   "source": [
    "x100=matrix_power(T,100) @ nu\n",
    "x100"
   ]
  },
  {
   "cell_type": "code",
   "execution_count": null,
   "metadata": {},
   "outputs": [],
   "source": [
    "np.sum(x100)"
   ]
  },
  {
   "cell_type": "code",
   "execution_count": null,
   "metadata": {},
   "outputs": [],
   "source": [
    "print(vec_to_latex(x100))"
   ]
  },
  {
   "cell_type": "code",
   "execution_count": null,
   "metadata": {},
   "outputs": [],
   "source": [
    "plt.bar([\"80\", \"135\", \"139\", \"445\", \"No attack\"],x100)\n",
    "plt.xlabel(\"Port\")\n",
    "plt.ylabel(\"Chance that Port is Most-Attacked\")\n",
    "plt.title(\"Honeypot after 100 Weeks\")\n",
    "savefig(\"honeypot.png\")"
   ]
  },
  {
   "cell_type": "markdown",
   "metadata": {},
   "source": [
    "# Question 4: PageRank\n",
    "Used to create https://en.m.wikipedia.org/wiki/PageRank#/media/File%3APage_rank_animation.gif"
   ]
  },
  {
   "cell_type": "code",
   "execution_count": 64,
   "metadata": {},
   "outputs": [],
   "source": [
    "class Page:\n",
    "    def __init__(self,name) -> None:\n",
    "        self.inbound = []\n",
    "        self.outbound = []\n",
    "        self._outbound = []\n",
    "        self.name=name\n",
    "    def set_index(self,idx):\n",
    "        self.index = idx\n",
    "    def add_inbound(self,other_page):\n",
    "        self.inbound.append(other_page)\n",
    "    def add_outbound(self,*args):\n",
    "        for p in args:\n",
    "            p.add_inbound(self)\n",
    "            self.outbound.append(p)\n",
    "\n",
    "def build_matrix(pages):\n",
    "    for i,p in enumerate(pages):\n",
    "        p.set_index(i)\n",
    "    M = np.zeros((len(pages),len(pages)))\n",
    "    for p in pages:\n",
    "        outbound = list(set([page.index for page in p.outbound if page.index != p.index]))\n",
    "        p._outbound = outbound\n",
    "        if outbound:\n",
    "            # print(outbound)\n",
    "            M[outbound,p.index] = 1/len(outbound)\n",
    "        else:\n",
    "            M[p.index,p.index] = 1\n",
    "    return M\n",
    "\n",
    "def PageRank(pages,damping, steps=None, max_iters=1000, convergence_thresh=0.001):\n",
    "    vals = []\n",
    "    N = len(pages)\n",
    "    x = np.empty(N)\n",
    "    x.fill(1/N)\n",
    "    M = build_matrix(pages)\n",
    "    n = 0\n",
    "    if steps is not None:\n",
    "        max_iters = steps + 1\n",
    "    while True:\n",
    "        if n >= max_iters:\n",
    "            print(f\"PageRank did not converge after {max_iters}\")\n",
    "        if steps is not None:\n",
    "            if n == steps:\n",
    "                break\n",
    "        elif len(vals) > 5:\n",
    "            changes = np.diff(np.array(vals[-5:]),axis=0)\n",
    "            total_change = np.sum(np.abs(changes))\n",
    "            if total_change < convergence_thresh:\n",
    "                print(f\"PageRank converged after {n} iterations\")       \n",
    "                break\n",
    "        vals.append(np.array(x,copy=True))\n",
    "        x_prime = np.empty_like(x)\n",
    "        x_prime.fill((1-damping)/N)\n",
    "        x_prime += damping * (M @ x)\n",
    "        x = x_prime\n",
    "        n+=1\n",
    "    assert np.allclose(a=sum(x),b=1)\n",
    "    return x, np.array(vals)"
   ]
  },
  {
   "cell_type": "code",
   "execution_count": 65,
   "metadata": {},
   "outputs": [],
   "source": [
    "def visualize_network(pages:list,title:str,fig:Figure|None=None,ax:Axes|None=None, colors:dict|None=None, **kwargs) -> tuple[Figure, Axes]:\n",
    "    build_matrix(pages) # to establish indices lol\n",
    "    edges = [(p.name,pages[neighbor].name) for p in pages for neighbor in p._outbound]\n",
    "    G = nx.DiGraph(edges)\n",
    "\n",
    "    center_index = 2\n",
    "    center_node = pages[center_index].name\n",
    "\n",
    "    # Use a spring layout for visualization\n",
    "    try:\n",
    "        pos = nx.planar_layout(G)\n",
    "        raise ValueError  # to force kamada_kawai\n",
    "    except Exception as e:\n",
    "        pos = nx.kamada_kawai_layout(G)\n",
    "        displacement = {node: center_node_position - pos[center_node] for node, center_node_position in pos.items()}\n",
    "        for node, position in pos.items():\n",
    "            pos[node] = position + displacement[node]\n",
    "    if colors:\n",
    "        c = [colors[name] for name in pos.keys()]\n",
    "    else:\n",
    "        c = None\n",
    "    \n",
    "    if \"node_size\" not in kwargs:\n",
    "        kwargs[\"node_size\"] = 700\n",
    "    else:\n",
    "        sizes = dict(zip([p.name for p in pages],kwargs[\"node_size\"]))\n",
    "        kwargs[\"node_size\"] = [sizes[name] for name in pos.keys()]\n",
    "        \n",
    "    # Draw nodes and edges\n",
    "    if fig is None:\n",
    "        fig, ax = plt.subplots()\n",
    "    a = nx.draw(G, pos, with_labels=True, node_color=c, font_size=10,ax=ax, **kwargs)\n",
    "    ax.set_title(title)\n",
    "    ax.tick_params(left=False, right=False, labelleft=False,\n",
    "                    labelbottom=False, bottom=False)\n",
    "    return fig, ax"
   ]
  },
  {
   "cell_type": "code",
   "execution_count": null,
   "metadata": {},
   "outputs": [],
   "source": [
    "A, B, C, D, E = Page(\"A\"), Page(\"B\"), Page(\"C\"), Page(\"D\"), Page(\"E\")\n",
    "A.add_outbound(B)\n",
    "B.add_outbound(E)\n",
    "E.add_outbound(D)\n",
    "D.add_outbound(C,E)\n",
    "C.add_outbound(A,B,E,D)\n",
    "\n",
    "pages = [A,B,C,D,E]\n",
    "build_matrix(pages)\n",
    "visualize_network(pages,\"hi\")"
   ]
  },
  {
   "cell_type": "code",
   "execution_count": null,
   "metadata": {},
   "outputs": [],
   "source": [
    "R, vals = PageRank(pages,damping=0.85,steps=40)\n",
    "R"
   ]
  },
  {
   "cell_type": "code",
   "execution_count": null,
   "metadata": {},
   "outputs": [],
   "source": [
    "vals[1,:]-0.03"
   ]
  },
  {
   "cell_type": "code",
   "execution_count": null,
   "metadata": {},
   "outputs": [],
   "source": [
    "vals[1,:]"
   ]
  },
  {
   "cell_type": "code",
   "execution_count": null,
   "metadata": {},
   "outputs": [],
   "source": [
    "np.sum(vals[1,:])"
   ]
  },
  {
   "cell_type": "code",
   "execution_count": null,
   "metadata": {},
   "outputs": [],
   "source": [
    "for i, page in enumerate(pages):\n",
    "    plt.plot(vals[:,i],label=page.name)\n",
    "plt.title(\"PageRank\")\n",
    "plt.xlabel(\"Iters\")\n",
    "plt.ylabel(\"PageRank\")\n",
    "_=plt.legend()"
   ]
  },
  {
   "cell_type": "code",
   "execution_count": null,
   "metadata": {},
   "outputs": [],
   "source": [
    "plt.plot(np.sum(np.abs(diffs),axis=1))\n",
    "plt.ylabel(\"Total Absolute Change in PageRank\")\n",
    "plt.xlabel(\"Iteration\")\n",
    "plt.title(\"Page Rank Convergence\")"
   ]
  },
  {
   "cell_type": "code",
   "execution_count": null,
   "metadata": {},
   "outputs": [],
   "source": [
    "for i, page in enumerate(pages):\n",
    "    plt.plot(diffs[:,i],label=page.name)\n",
    "plt.title(\"PageRank\")\n",
    "plt.xlabel(\"Iters\")\n",
    "plt.ylabel(\"dPageRank\")\n",
    "_=plt.legend()"
   ]
  },
  {
   "cell_type": "code",
   "execution_count": null,
   "metadata": {},
   "outputs": [],
   "source": [
    "R, vals = PageRank(pages,damping=0.85,steps=None)\n",
    "R"
   ]
  },
  {
   "cell_type": "code",
   "execution_count": null,
   "metadata": {},
   "outputs": [],
   "source": [
    "# value plot\n",
    "for i, page in enumerate(pages):\n",
    "    plt.plot(vals[:,i],label=page.name)\n",
    "plt.title(f\"PageRank ({len(vals)} iters)\")\n",
    "plt.xlabel(\"Iters\")\n",
    "plt.ylabel(\"Site PageRank\")\n",
    "_=plt.legend(loc=\"upper center\",ncols=5)\n",
    "savefig(\"pagerank_autoconverge.png\")\n",
    "plt.show()\n",
    "plt.cla()\n",
    "\n",
    "# difference plot\n",
    "diffs = np.diff(np.array(vals),axis=0)\n",
    "for i, page in enumerate(pages):\n",
    "    plt.plot(diffs[:,i],label=page.name)\n",
    "plt.title(f\"PageRank ({len(vals)} iters)\")\n",
    "plt.xlabel(\"Iteration\")\n",
    "plt.ylabel(\"Change in PageRank\")\n",
    "leg=plt.legend(loc=\"upper center\",ncols=5)\n",
    "savefig(\"diff_pagerank_autoconverge.png\")\n",
    "plt.show()\n",
    "plt.cla()\n",
    "\n",
    "# absolute difference plot\n",
    "plt.plot(np.sum(np.abs(diffs),axis=1))\n",
    "plt.title(f\"PageRank Convergence ({len(vals)} iters)\")\n",
    "plt.xlabel(\"Iteration\")\n",
    "plt.ylabel(\"Total Absolute Change in PageRank\")\n",
    "savefig(\"abs_diff_pagerank_autoconverge.png\")\n",
    "plt.show()\n",
    "\n",
    "names = [p.name for p in pages]\n",
    "colors = [h._color for h in leg.legend_handles]\n",
    "colors = dict(zip(names,colors))\n",
    "\n",
    "visualize_network(pages,\"\",colors=colors,node_size=10000*vals[-1])\n"
   ]
  },
  {
   "cell_type": "code",
   "execution_count": null,
   "metadata": {},
   "outputs": [],
   "source": [
    "vals[-1]"
   ]
  },
  {
   "cell_type": "code",
   "execution_count": 76,
   "metadata": {},
   "outputs": [],
   "source": [
    "names = [p.name for p in pages]\n",
    "colors = [h._color for h in leg.legend_handles]\n",
    "colors = dict(zip(names,colors))"
   ]
  },
  {
   "cell_type": "code",
   "execution_count": 276,
   "metadata": {},
   "outputs": [],
   "source": []
  },
  {
   "cell_type": "code",
   "execution_count": null,
   "metadata": {},
   "outputs": [],
   "source": [
    "np.max(vals)"
   ]
  },
  {
   "cell_type": "code",
   "execution_count": null,
   "metadata": {},
   "outputs": [],
   "source": [
    "fig, ax = plt.subplots()\n",
    "ymax = np.max(vals)\n",
    "def anim(frame):\n",
    "    artists = []\n",
    "    ax.cla()\n",
    "    ax.set_ylim(0,ymax)\n",
    "    b = ax.bar(names,vals[frame,:],color=[colors[n] for n in names])\n",
    "    ax.set_title(f\"PageRank ({len(vals)} iters)\")\n",
    "    ax.set_ylabel(f\"Site PageRank\")\n",
    "    return artists\n",
    "\n",
    "ani = animation.FuncAnimation(fig=fig, func=anim, frames=len(vals), interval=100, repeat=False)\n",
    "ani.save(filename=out(\"pagerank.gif\"), writer=\"pillow\",dpi=150)"
   ]
  },
  {
   "cell_type": "code",
   "execution_count": null,
   "metadata": {},
   "outputs": [],
   "source": [
    "# for L in ascii_uppercase[:14]:\n",
    "print(*(ascii_uppercase[:14]),sep=\", \",end=\"\")\n",
    "print(\" = \",sep=\"\",end=\"\")\n",
    "print(*[f\"Page(\\\"{l}\\\")\" for l in ascii_uppercase[:14]], sep=\", \")"
   ]
  },
  {
   "cell_type": "code",
   "execution_count": 459,
   "metadata": {},
   "outputs": [],
   "source": [
    "A, B, C, D, E, F, G, H, I, J, K, L, M, N = Page(\"A\"), Page(\"B\"), Page(\"C\"), Page(\"D\"), Page(\"E\"), Page(\"F\"), Page(\"G\"), Page(\"H\"), Page(\"I\"), Page(\"J\"), Page(\"K\"), Page(\"L\"), Page(\"M\"), Page(\"N\")\n",
    "A.add_outbound(M)\n",
    "B.add_outbound(A)\n",
    "C.add_outbound(A,D)\n",
    "D.add_outbound(F)\n",
    "F.add_outbound(D,E)\n",
    "E.add_outbound(C,D,G)\n",
    "G.add_outbound(F)\n",
    "H.add_outbound(G,I)\n",
    "I.add_outbound(H,J)\n",
    "J.add_outbound(I,L)\n",
    "L.add_outbound(K,M)\n",
    "K.add_outbound(I,J)\n",
    "M.add_outbound(N)\n",
    "N.add_outbound(M,L)\n",
    "pages = [A, B, C, D, E, F, G, H, I, J, K, L, M, N]"
   ]
  },
  {
   "cell_type": "code",
   "execution_count": null,
   "metadata": {},
   "outputs": [],
   "source": [
    "R, vals = PageRank(pages,0.85,steps=None)"
   ]
  },
  {
   "cell_type": "code",
   "execution_count": null,
   "metadata": {},
   "outputs": [],
   "source": [
    "visualize_network(pages,\"hi\",colors=colors,node_size=5000*vals[-1,:])"
   ]
  },
  {
   "cell_type": "code",
   "execution_count": null,
   "metadata": {},
   "outputs": [],
   "source": [
    "vals[:,3]"
   ]
  },
  {
   "cell_type": "code",
   "execution_count": null,
   "metadata": {},
   "outputs": [],
   "source": [
    "fig, axes = plt.subplots(1,2,figsize=(10,5))\n",
    "\n",
    "resolution = 5\n",
    "funcs = []\n",
    "for p in pages:\n",
    "    ind = p.index\n",
    "    f = lambda i,ind=ind: np.interp(i,np.arange(len(vals)),vals[:,ind])\n",
    "    funcs.append(f)\n",
    "\n",
    "buffer = 3 * resolution\n",
    "\n",
    "def update(frame):\n",
    "    if frame < buffer:  # add a pause at the beginning\n",
    "        frame = 0\n",
    "    else:\n",
    "        frame = (frame-buffer)/resolution\n",
    "    # v = vals[frame,:]\n",
    "    v = np.array([f(frame) for f in funcs])\n",
    "    axes[0].cla()\n",
    "    axes[1].cla()\n",
    "    visualize_network(pages,\"\",colors=colors,node_size=10000*v,fig=fig,ax=axes[0])\n",
    "    ax = axes[1]\n",
    "    artists = []\n",
    "    ax.cla()\n",
    "    ax.set_ylim(0,ymax)\n",
    "    b = ax.bar(names,v,color=[colors[n] for n in names])\n",
    "    ax.set_ylabel(f\"Site PageRank\")\n",
    "    \n",
    "    return [b]\n",
    "\n",
    "ani = animation.FuncAnimation(fig=fig, func=update, frames=len(vals)*resolution+buffer, interval=300/resolution, repeat=False)\n",
    "ani.save(filename=out(\"node.gif\"), writer=\"pillow\",dpi=150)"
   ]
  },
  {
   "cell_type": "code",
   "execution_count": null,
   "metadata": {},
   "outputs": [],
   "source": [
    "# for i in range(len(funcs)):\n",
    "x= np.linspace(0,16,50)\n",
    "plt.plot(x,funcs[0](x),alpha=0.75)"
   ]
  },
  {
   "cell_type": "code",
   "execution_count": null,
   "metadata": {},
   "outputs": [],
   "source": []
  }
 ],
 "metadata": {
  "kernelspec": {
   "display_name": ".venv",
   "language": "python",
   "name": "python3"
  },
  "language_info": {
   "codemirror_mode": {
    "name": "ipython",
    "version": 3
   },
   "file_extension": ".py",
   "mimetype": "text/x-python",
   "name": "python",
   "nbconvert_exporter": "python",
   "pygments_lexer": "ipython3",
   "version": "3.12.0"
  }
 },
 "nbformat": 4,
 "nbformat_minor": 2
}
