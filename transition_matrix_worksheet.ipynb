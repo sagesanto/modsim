{
 "cells": [
  {
   "cell_type": "code",
   "execution_count": 3,
   "metadata": {},
   "outputs": [],
   "source": [
    "import numpy as np\n",
    "import matplotlib.pyplot as plt\n",
    "from numpy.linalg import matrix_power"
   ]
  },
  {
   "cell_type": "markdown",
   "metadata": {},
   "source": [
    "# 1: Wetlands"
   ]
  },
  {
   "cell_type": "markdown",
   "metadata": {},
   "source": [
    "## a"
   ]
  },
  {
   "cell_type": "code",
   "execution_count": null,
   "metadata": {},
   "outputs": [],
   "source": [
    "T = np.array([[0.95,0,0],[0.05,0.88,0],[0,0.12,1]])\n",
    "w0 = np.array([100,0,0])\n",
    "matrix_power(T,1) @ w0"
   ]
  },
  {
   "cell_type": "markdown",
   "metadata": {},
   "source": [
    "# 3: HSV"
   ]
  },
  {
   "cell_type": "code",
   "execution_count": 7,
   "metadata": {},
   "outputs": [],
   "source": [
    "T = np.array([[1-0.02/365,0,0],[0.02/365,0.714,0.029],[0,0.286,1-0.029]])\n",
    "x0 = np.array([400,5,0])"
   ]
  },
  {
   "cell_type": "code",
   "execution_count": null,
   "metadata": {},
   "outputs": [],
   "source": [
    "T @ x0"
   ]
  },
  {
   "cell_type": "code",
   "execution_count": null,
   "metadata": {},
   "outputs": [],
   "source": [
    "matrix_power(T,100000000)   # should find eigenvalues / vecs instead lol"
   ]
  },
  {
   "cell_type": "code",
   "execution_count": null,
   "metadata": {},
   "outputs": [],
   "source": []
  },
  {
   "cell_type": "markdown",
   "metadata": {},
   "source": [
    "# PageRank"
   ]
  },
  {
   "cell_type": "code",
   "execution_count": 24,
   "metadata": {},
   "outputs": [],
   "source": [
    "class Page:\n",
    "    def __init__(self) -> None:\n",
    "        self.inbound = []\n",
    "        self.outbound = []\n",
    "    def set_index(self,idx):\n",
    "        self.index = idx\n",
    "    def add_inbound(self,other_page):\n",
    "        self.inbound.append(other_page)\n",
    "    def add_outbound(self,*args):\n",
    "        for p in args:\n",
    "            p.add_inbound(self)\n",
    "            self.outbound.append(p)\n",
    "\n",
    "\n",
    "def build_matrix(pages):\n",
    "    for i,p in enumerate(pages):\n",
    "        p.set_index(i)\n",
    "    M = np.zeros((len(pages),len(pages)))\n",
    "    for p in pages:\n",
    "        outbound = list(set([page.index for page in p.outbound if page.index != p.index]))\n",
    "        if outbound:\n",
    "            # print(outbound)\n",
    "            M[outbound,p.index] = 1/len(outbound)\n",
    "    return M"
   ]
  },
  {
   "cell_type": "code",
   "execution_count": null,
   "metadata": {},
   "outputs": [],
   "source": [
    "A, B, C, D = Page(), Page(), Page(), Page()\n",
    "A.add_outbound(B)\n",
    "B.add_outbound(A,C)\n",
    "C.add_outbound(A)\n",
    "D.add_outbound(A,B,C)\n",
    "\n",
    "build_matrix([A,B,C,D])"
   ]
  },
  {
   "cell_type": "code",
   "execution_count": 37,
   "metadata": {},
   "outputs": [],
   "source": [
    "def PageRank(pages,damping, steps):\n",
    "    N = len(pages)\n",
    "    x0 = np.empty(N)\n",
    "    x0.fill(1/N)\n",
    "    M = build_matrix(pages)\n",
    "    for n in range(steps):\n",
    "        x_prime = np.empty_like(x0)\n",
    "        x_prime.fill((1-damping)/N)\n",
    "        x_prime += damping * (M @ x0)\n",
    "        x0 = x_prime\n",
    "        print(x0)\n",
    "    return x0"
   ]
  },
  {
   "cell_type": "code",
   "execution_count": null,
   "metadata": {},
   "outputs": [],
   "source": [
    "R = PageRank([A,B,C,D],0.85,100)\n",
    "R"
   ]
  },
  {
   "cell_type": "code",
   "execution_count": null,
   "metadata": {},
   "outputs": [],
   "source": [
    "np.sum(R)"
   ]
  },
  {
   "cell_type": "code",
   "execution_count": null,
   "metadata": {},
   "outputs": [],
   "source": []
  }
 ],
 "metadata": {
  "kernelspec": {
   "display_name": ".venv",
   "language": "python",
   "name": "python3"
  },
  "language_info": {
   "codemirror_mode": {
    "name": "ipython",
    "version": 3
   },
   "file_extension": ".py",
   "mimetype": "text/x-python",
   "name": "python",
   "nbconvert_exporter": "python",
   "pygments_lexer": "ipython3",
   "version": "3.12.0"
  }
 },
 "nbformat": 4,
 "nbformat_minor": 2
}
